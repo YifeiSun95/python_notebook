{
 "cells": [
  {
   "cell_type": "markdown",
   "metadata": {
    "collapsed": true
   },
   "source": [
    "# HW 1: How do you handle duplicate values in a dataset in Python?"
   ]
  },
  {
   "cell_type": "code",
   "execution_count": 1,
   "metadata": {},
   "outputs": [],
   "source": [
    "import numpy as np\n",
    "import pandas as pd\n",
    "import scipy"
   ]
  },
  {
   "cell_type": "code",
   "execution_count": 2,
   "metadata": {},
   "outputs": [],
   "source": [
    "%matplotlib inline\n",
    "import matplotlib.pyplot as plt"
   ]
  },
  {
   "cell_type": "code",
   "execution_count": 4,
   "metadata": {},
   "outputs": [
    {
     "name": "stdout",
     "output_type": "stream",
     "text": [
      "[1 2 3 3 4 5]\n"
     ]
    }
   ],
   "source": [
    "# if in a numpy array\n",
    "import numpy as np\n",
    "a = np.array([1,2,3,3,4,5])\n",
    "print(a)\n",
    "\n",
    "# Your code\n",
    "a_dedupe = np.unique(a)\n",
    "print a_dedupe"
   ]
  },
  {
   "cell_type": "code",
   "execution_count": 5,
   "metadata": {},
   "outputs": [
    {
     "name": "stdout",
     "output_type": "stream",
     "text": [
      "   0  1  2  3  4\n",
      "0  1  2  3  4  5\n",
      "1  1  2  3  4  5\n",
      "2  1  2  3  4  6\n"
     ]
    }
   ],
   "source": [
    "# if a dataframe\n",
    "b = pd.DataFrame([[1,2,3,4,5],[1,2,3,4,5],[1,2,3,4,6]])\n",
    "print(b)\n",
    "\n",
    "# remove duplicates\n",
    "# Your code\n",
    "b_dedupe = b.drop_duplicates()\n",
    "b_dedupe"
   ]
  },
  {
   "cell_type": "markdown",
   "metadata": {
    "collapsed": true
   },
   "source": [
    "# HW 2: friend request"
   ]
  },
  {
   "cell_type": "code",
   "execution_count": 5,
   "metadata": {},
   "outputs": [
    {
     "name": "stdout",
     "output_type": "stream",
     "text": [
      "   receiver_id  requester_id        time\n",
      "0         3001          1001  2017-07-01\n",
      "1         3002          1002  2017-07-02\n",
      "2         3003          1003  2017-07-03\n",
      "   acceptor_id  requester_id        time\n",
      "0         3001          1001  2017-07-01\n",
      "1         3003          1003  2017-07-04\n"
     ]
    }
   ],
   "source": [
    "import pandas as pd\n",
    "\n",
    "friend_request = pd.DataFrame(\n",
    "    {\"requester_id\":[1001,1002,1003],\n",
    "     \"time\":[\"2017-07-01\",\"2017-07-02\",\"2017-07-03\"],\n",
    "     \"receiver_id\":[3001,3002,3003]}\n",
    ")\n",
    "\n",
    "request_accepted = pd.DataFrame(\n",
    "    {\"requester_id\":[1001,1003],\n",
    "     \"time\":[\"2017-07-01\",\"2017-07-04\"],\n",
    "     \"acceptor_id\":[3001,3003]}\n",
    ")\n",
    "\n",
    "print(friend_request)\n",
    "print(request_accepted)\n"
   ]
  },
  {
   "cell_type": "code",
   "execution_count": 6,
   "metadata": {},
   "outputs": [],
   "source": [
    "# sql\n",
    "# Your code\n",
    "\n",
    "#select\n",
    "#sum(if(t2.acceptor_id is null, 0, 1))/sum(1) as acceptance_rate,\n",
    "#avg(time_diff(t2.time, t1.time)) as time_diff\n",
    "#from friend_request t1\n",
    "#left join request_accepted t2\n",
    "#on t1.requester_id=t2.requeter_id\n",
    "#and T1.receiver_id=T2.acceptor_id;"
   ]
  },
  {
   "cell_type": "code",
   "execution_count": 7,
   "metadata": {},
   "outputs": [],
   "source": [
    "# Python \n",
    "# Your code\n",
    "\n",
    "a = pd.merge(friend_request,request_accepted,how=\"left\",left_on=[\"requester_id\", \"receiver_id\"], \\\n",
    "             right_on=[\"requester_id\", \"acceptor_id\"])\n",
    "len(a[\"acceptor_id\"][a.acceptor_id > 0])/(len(a[\"acceptor_id\"])*1.0)"
   ]
  },
  {
   "cell_type": "markdown",
   "metadata": {},
   "source": [
    "# HW 3"
   ]
  },
  {
   "cell_type": "code",
   "execution_count": 17,
   "metadata": {},
   "outputs": [],
   "source": [
    "def identify_issuer(card):\n",
    "    \"\"\"\n",
    "    @input: card number\n",
    "    @output: the corresponding issuer\n",
    "    \"\"\"\n",
    "    ###########\n",
    "    # Your code\n",
    "    issuer = 'Others'\n",
    "    n = len(card)\n",
    "    c1 = card[0]\n",
    "    c2 = card[:2]\n",
    "    c4 = card[:4]\n",
    "    c6 = card[:7]\n",
    "    \n",
    "    if c2 in ['34', '37'] and n == 15:\n",
    "        issuer = 'AMEX'\n",
    "    \n",
    "    if c2 == '36' and n == 14:\n",
    "        issuer = 'Diners Club'\n",
    "        \n",
    "    if c1 == '4' and n == 16:\n",
    "        if c4 in ['4026', '4405', '4508', '4844', '4913', '4917'] or c6 in ['417500']:\n",
    "            issuer = 'VISAELECTRON'\n",
    "        issuer = 'VISA'\n",
    "    ###########\n",
    "    \n",
    "    return issuer"
   ]
  },
  {
   "cell_type": "code",
   "execution_count": 18,
   "metadata": {},
   "outputs": [
    {
     "name": "stdout",
     "output_type": "stream",
     "text": [
      "4175004175004172 VISA\n",
      "4917491749174917 VISA\n",
      "346416800707698 AMEX\n",
      "376416800707698 AMEX\n",
      "37641680070769832112 Others\n",
      "36641680070769 Diners Club\n",
      "54545641680070769 Others\n"
     ]
    }
   ],
   "source": [
    "lst = ['4175004175004172' \n",
    ",'4917491749174917'\n",
    ",'346416800707698'\n",
    ",'376416800707698' \n",
    ",'37641680070769832112'\n",
    ",'36641680070769'\n",
    ",'54545641680070769' \n",
    "]\n",
    "\n",
    "for l in lst:\n",
    "    print (l, identify_issuer(l))"
   ]
  },
  {
   "cell_type": "markdown",
   "metadata": {
    "collapsed": true
   },
   "source": [
    "# HW 4"
   ]
  },
  {
   "cell_type": "code",
   "execution_count": 8,
   "metadata": {},
   "outputs": [
    {
     "data": {
      "text/html": [
       "<div>\n",
       "<style scoped>\n",
       "    .dataframe tbody tr th:only-of-type {\n",
       "        vertical-align: middle;\n",
       "    }\n",
       "\n",
       "    .dataframe tbody tr th {\n",
       "        vertical-align: top;\n",
       "    }\n",
       "\n",
       "    .dataframe thead th {\n",
       "        text-align: right;\n",
       "    }\n",
       "</style>\n",
       "<table border=\"1\" class=\"dataframe\">\n",
       "  <thead>\n",
       "    <tr style=\"text-align: right;\">\n",
       "      <th></th>\n",
       "      <th>country</th>\n",
       "      <th>date</th>\n",
       "      <th>experiment_id</th>\n",
       "      <th>order_id</th>\n",
       "      <th>spend_usd</th>\n",
       "      <th>user_id</th>\n",
       "      <th>vertical</th>\n",
       "    </tr>\n",
       "  </thead>\n",
       "  <tbody>\n",
       "    <tr>\n",
       "      <th>0</th>\n",
       "      <td>JP</td>\n",
       "      <td>20170402</td>\n",
       "      <td>12624548</td>\n",
       "      <td>5813140433216629693</td>\n",
       "      <td>16.138855</td>\n",
       "      <td>5006730028073359543</td>\n",
       "      <td>ANDROID_APPS</td>\n",
       "    </tr>\n",
       "    <tr>\n",
       "      <th>1</th>\n",
       "      <td>US</td>\n",
       "      <td>20170403</td>\n",
       "      <td>12624549</td>\n",
       "      <td>16333056276711034931</td>\n",
       "      <td>9.990000</td>\n",
       "      <td>5938685669571545259</td>\n",
       "      <td>ANDROID_APPS</td>\n",
       "    </tr>\n",
       "    <tr>\n",
       "      <th>2</th>\n",
       "      <td>JP</td>\n",
       "      <td>20170404</td>\n",
       "      <td>12624548</td>\n",
       "      <td>11227119161741298366</td>\n",
       "      <td>19.887087</td>\n",
       "      <td>17623708458399141713</td>\n",
       "      <td>ANDROID_APPS</td>\n",
       "    </tr>\n",
       "    <tr>\n",
       "      <th>3</th>\n",
       "      <td>US</td>\n",
       "      <td>20170403</td>\n",
       "      <td>12624548</td>\n",
       "      <td>11927299833124210932</td>\n",
       "      <td>19.990000</td>\n",
       "      <td>18042812344456618148</td>\n",
       "      <td>ANDROID_APPS</td>\n",
       "    </tr>\n",
       "    <tr>\n",
       "      <th>4</th>\n",
       "      <td>JP</td>\n",
       "      <td>20170403</td>\n",
       "      <td>12624549</td>\n",
       "      <td>11644727017708872749</td>\n",
       "      <td>88.220093</td>\n",
       "      <td>4325104700699531031</td>\n",
       "      <td>ANDROID_APPS</td>\n",
       "    </tr>\n",
       "  </tbody>\n",
       "</table>\n",
       "</div>"
      ],
      "text/plain": [
       "  country      date  experiment_id              order_id  spend_usd  \\\n",
       "0      JP  20170402       12624548   5813140433216629693  16.138855   \n",
       "1      US  20170403       12624549  16333056276711034931   9.990000   \n",
       "2      JP  20170404       12624548  11227119161741298366  19.887087   \n",
       "3      US  20170403       12624548  11927299833124210932  19.990000   \n",
       "4      JP  20170403       12624549  11644727017708872749  88.220093   \n",
       "\n",
       "                user_id      vertical  \n",
       "0   5006730028073359543  ANDROID_APPS  \n",
       "1   5938685669571545259  ANDROID_APPS  \n",
       "2  17623708458399141713  ANDROID_APPS  \n",
       "3  18042812344456618148  ANDROID_APPS  \n",
       "4   4325104700699531031  ANDROID_APPS  "
      ]
     },
     "execution_count": 8,
     "metadata": {},
     "output_type": "execute_result"
    }
   ],
   "source": [
    "# \n",
    "file_name = \"BA501_python_data.csv\"\n",
    "my_data = pd.read_csv(file_name)\n",
    "my_data.head(5)"
   ]
  },
  {
   "cell_type": "code",
   "execution_count": 20,
   "metadata": {},
   "outputs": [
    {
     "name": "stdout",
     "output_type": "stream",
     "text": [
      "(73910, 7)\n",
      "country          12\n",
      "date              0\n",
      "experiment_id     0\n",
      "order_id          0\n",
      "spend_usd         0\n",
      "user_id           0\n",
      "vertical          0\n",
      "dtype: int64\n"
     ]
    }
   ],
   "source": [
    "# Data cleaning\n",
    "# Your code\n",
    "\n",
    "# shape\n",
    "print (my_data.shape)\n",
    "\n",
    "# drop duplicates\n",
    "my_data = my_data.drop_duplicates()\n",
    "\n",
    "# check missing value\n",
    "print (my_data.shape[0] - my_data.count())\n",
    "\n"
   ]
  },
  {
   "cell_type": "code",
   "execution_count": 14,
   "metadata": {},
   "outputs": [
    {
     "data": {
      "text/html": [
       "<div>\n",
       "<style scoped>\n",
       "    .dataframe tbody tr th:only-of-type {\n",
       "        vertical-align: middle;\n",
       "    }\n",
       "\n",
       "    .dataframe tbody tr th {\n",
       "        vertical-align: top;\n",
       "    }\n",
       "\n",
       "    .dataframe thead th {\n",
       "        text-align: right;\n",
       "    }\n",
       "</style>\n",
       "<table border=\"1\" class=\"dataframe\">\n",
       "  <thead>\n",
       "    <tr style=\"text-align: right;\">\n",
       "      <th></th>\n",
       "      <th>country</th>\n",
       "      <th>date</th>\n",
       "      <th>experiment_id</th>\n",
       "      <th>order_id</th>\n",
       "      <th>spend_usd</th>\n",
       "      <th>user_id</th>\n",
       "      <th>vertical</th>\n",
       "    </tr>\n",
       "  </thead>\n",
       "  <tbody>\n",
       "    <tr>\n",
       "      <th>0</th>\n",
       "      <td>JP</td>\n",
       "      <td>2017-04-02</td>\n",
       "      <td>12624548</td>\n",
       "      <td>5813140433216629693</td>\n",
       "      <td>16.138855</td>\n",
       "      <td>5006730028073359543</td>\n",
       "      <td>ANDROID_APPS</td>\n",
       "    </tr>\n",
       "    <tr>\n",
       "      <th>1</th>\n",
       "      <td>US</td>\n",
       "      <td>2017-04-03</td>\n",
       "      <td>12624549</td>\n",
       "      <td>16333056276711034931</td>\n",
       "      <td>9.990000</td>\n",
       "      <td>5938685669571545259</td>\n",
       "      <td>ANDROID_APPS</td>\n",
       "    </tr>\n",
       "    <tr>\n",
       "      <th>2</th>\n",
       "      <td>JP</td>\n",
       "      <td>2017-04-04</td>\n",
       "      <td>12624548</td>\n",
       "      <td>11227119161741298366</td>\n",
       "      <td>19.887087</td>\n",
       "      <td>17623708458399141713</td>\n",
       "      <td>ANDROID_APPS</td>\n",
       "    </tr>\n",
       "    <tr>\n",
       "      <th>3</th>\n",
       "      <td>US</td>\n",
       "      <td>2017-04-03</td>\n",
       "      <td>12624548</td>\n",
       "      <td>11927299833124210932</td>\n",
       "      <td>19.990000</td>\n",
       "      <td>18042812344456618148</td>\n",
       "      <td>ANDROID_APPS</td>\n",
       "    </tr>\n",
       "    <tr>\n",
       "      <th>4</th>\n",
       "      <td>JP</td>\n",
       "      <td>2017-04-03</td>\n",
       "      <td>12624549</td>\n",
       "      <td>11644727017708872749</td>\n",
       "      <td>88.220093</td>\n",
       "      <td>4325104700699531031</td>\n",
       "      <td>ANDROID_APPS</td>\n",
       "    </tr>\n",
       "  </tbody>\n",
       "</table>\n",
       "</div>"
      ],
      "text/plain": [
       "  country       date  experiment_id              order_id  spend_usd  \\\n",
       "0      JP 2017-04-02       12624548   5813140433216629693  16.138855   \n",
       "1      US 2017-04-03       12624549  16333056276711034931   9.990000   \n",
       "2      JP 2017-04-04       12624548  11227119161741298366  19.887087   \n",
       "3      US 2017-04-03       12624548  11927299833124210932  19.990000   \n",
       "4      JP 2017-04-03       12624549  11644727017708872749  88.220093   \n",
       "\n",
       "                user_id      vertical  \n",
       "0   5006730028073359543  ANDROID_APPS  \n",
       "1   5938685669571545259  ANDROID_APPS  \n",
       "2  17623708458399141713  ANDROID_APPS  \n",
       "3  18042812344456618148  ANDROID_APPS  \n",
       "4   4325104700699531031  ANDROID_APPS  "
      ]
     },
     "execution_count": 14,
     "metadata": {},
     "output_type": "execute_result"
    }
   ],
   "source": [
    "# deal with date format\n",
    "my_data.date = pd.to_datetime(my_data.date, format='%Y%m%d')\n",
    "my_data.head()"
   ]
  },
  {
   "cell_type": "code",
   "execution_count": 21,
   "metadata": {},
   "outputs": [],
   "source": [
    "# Complete the following 3 functions\n",
    "\n",
    "# function 1: for any given experiment_id, return a list group by date of total spend usd\n",
    "def GetSeries(my_data, my_id):\n",
    "    \n",
    "    # filter my data with my experiment id, and then only choose date and spend_usd columns\n",
    "    # your code\n",
    "    table = my_data[[\"date\", \"spend_usd\"]][my_data.experiment_id == my_id]\n",
    "    \n",
    "    # group by date and sum \n",
    "    # your code\n",
    "    series = table.groupby('date')['spend_usd'].sum()\n",
    "    \n",
    "    # return total spend usd series\n",
    "    # your code\n",
    "    return(series)\n",
    "\n",
    "# function 2: for any two series, plot the time series\n",
    "def PlotSeries(experiment_series, control_series):\n",
    "    \n",
    "    # draw experiment_series and control_series on the same plot\n",
    "    # x axis is the date time series\n",
    "    # y axis is the total spend\n",
    "    # please give xlabel, ylabel and title\n",
    "    \n",
    "    # your code\n",
    "    fig, ax = plt.subplots()\n",
    "    ax.plot(experiment_series, color=\"red\", label=\"experiment\")\n",
    "    ax.plot(control_series, color=\"blue\", label=\"control\")\n",
    "    ax.set_title(\"Red vs. Blue\")\n",
    "    ax.set_ylabel(\"Total spend\")\n",
    "    ax.grid(True, which=\"both\")\n",
    "    ax.legend()\n",
    "    \n",
    "\n",
    "# master function: \n",
    "def PrintDailyTimeSeries(my_data, experiment_ids):\n",
    "    # make sure our x-axis is consistent\n",
    "    # unique date\n",
    "    index_series = np.unique(my_data.date) \n",
    "    \n",
    "    # sort by date\n",
    "    index_series = np.sort(index_series) \n",
    "    \n",
    "    # sort my data by date in ascending way\n",
    "    my_data = my_data.sort_values(\"date\", ascending=True, inplace=False)\n",
    "    \n",
    "    # get two series\n",
    "    treatment_series = GetSeries(my_data, experiment_ids[0])\n",
    "    control_series = GetSeries(my_data, experiment_ids[1])\n",
    "    \n",
    "    # plot \n",
    "    PlotSeries(treatment_series, control_series)"
   ]
  },
  {
   "cell_type": "code",
   "execution_count": 26,
   "metadata": {},
   "outputs": [
    {
     "data": {
      "image/png": "[encoded data removed]",
      "text/plain": [
       "<Figure size 432x288 with 1 Axes>"
      ]
     },
     "metadata": {},
     "output_type": "display_data"
    }
   ],
   "source": [
    "PrintDailyTimeSeries(my_data, [12624548,12624549])"
   ]
  },
  {
   "cell_type": "code",
   "execution_count": null,
   "metadata": {
    "collapsed": true
   },
   "outputs": [],
   "source": []
  }
 ],
 "metadata": {
  "anaconda-cloud": {},
  "kernelspec": {
   "display_name": "Python 3",
   "language": "python",
   "name": "python3"
  },
  "language_info": {
   "codemirror_mode": {
    "name": "ipython",
    "version": 3
   },
   "file_extension": ".py",
   "mimetype": "text/x-python",
   "name": "python",
   "nbconvert_exporter": "python",
   "pygments_lexer": "ipython3",
   "version": "3.6.5"
  }
 },
 "nbformat": 4,
 "nbformat_minor": 2
}
